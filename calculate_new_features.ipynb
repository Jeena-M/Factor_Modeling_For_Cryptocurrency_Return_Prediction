{
 "cells": [
  {
   "cell_type": "markdown",
   "metadata": {},
   "source": [
    "## Calculate Technical Features"
   ]
  },
  {
   "cell_type": "code",
   "execution_count": 1,
   "metadata": {},
   "outputs": [],
   "source": [
    "import pandas as pd\n",
    "import numpy as np\n",
    "\n",
    "df = pd.read_csv(\"Cleaned_Crypto.csv\", parse_dates=[\"datetime\"])\n",
    "grouped = df.groupby('symbol')"
   ]
  },
  {
   "cell_type": "markdown",
   "metadata": {},
   "source": [
    "### High-low"
   ]
  },
  {
   "cell_type": "code",
   "execution_count": 2,
   "metadata": {},
   "outputs": [],
   "source": [
    "# High–Low Spread \n",
    "df['high_low_spread'] = df['high'] - df['low']"
   ]
  },
  {
   "cell_type": "markdown",
   "metadata": {},
   "source": [
    "### Returns (r_{t-1}, ..., r{t-5})"
   ]
  },
  {
   "cell_type": "code",
   "execution_count": 3,
   "metadata": {},
   "outputs": [],
   "source": [
    "# Returns (r_{t−1},...,r_{t−5})\n",
    "for lag in range(1, 6):\n",
    "    df[f'return_lag_{lag}'] = grouped['close'].pct_change(periods=lag)"
   ]
  },
  {
   "cell_type": "markdown",
   "metadata": {},
   "source": [
    "### Moving Average"
   ]
  },
  {
   "cell_type": "code",
   "execution_count": 4,
   "metadata": {},
   "outputs": [],
   "source": [
    "# Moving Average (5-hour)\n",
    "df['ma_5'] = grouped['close'].transform(lambda x: x.rolling(window=5).mean())"
   ]
  },
  {
   "cell_type": "markdown",
   "metadata": {},
   "source": [
    "### Σₖ = rₜ₋₁ + ... + rₜ₋ₖ (k=3,5) and Σ₅ − Σ₃"
   ]
  },
  {
   "cell_type": "code",
   "execution_count": 5,
   "metadata": {},
   "outputs": [],
   "source": [
    "# Σₖ = rₜ₋₁ + ... + rₜ₋ₖ (k=3,5) and Σ₅ − Σ₃\n",
    "df['sum_ret_3'] = df[[f'return_lag_{i}' for i in range(1, 4)]].sum(axis=1)\n",
    "df['sum_ret_5'] = df[[f'return_lag_{i}' for i in range(1, 6)]].sum(axis=1)\n",
    "df['sum_diff_5_3'] = df['sum_ret_5'] - df['sum_ret_3']"
   ]
  },
  {
   "cell_type": "markdown",
   "metadata": {},
   "source": [
    "### Relative Strength Index"
   ]
  },
  {
   "cell_type": "code",
   "execution_count": 6,
   "metadata": {},
   "outputs": [],
   "source": [
    "# Relative Strength Index (RSI)\n",
    "def compute_rsi(series, window):\n",
    "    delta = series.diff()\n",
    "    gain = delta.clip(lower=0)\n",
    "    loss = -delta.clip(upper=0)\n",
    "    avg_gain = gain.rolling(window).mean()\n",
    "    avg_loss = loss.rolling(window).mean()\n",
    "    rs = avg_gain / avg_loss\n",
    "    return 100 - (100 / (1 + rs))\n",
    "\n",
    "df['rsi_6'] = grouped['close'].transform(lambda x: compute_rsi(x, 6))\n",
    "df['rsi_14'] = grouped['close'].transform(lambda x: compute_rsi(x, 14))"
   ]
  },
  {
   "cell_type": "markdown",
   "metadata": {},
   "source": [
    "### Moving Average Convergence Divergence"
   ]
  },
  {
   "cell_type": "code",
   "execution_count": 7,
   "metadata": {},
   "outputs": [],
   "source": [
    "# MACD\n",
    "df['ema_12'] = grouped['close'].transform(lambda x: x.ewm(span=12, adjust=False).mean())\n",
    "df['ema_26'] = grouped['close'].transform(lambda x: x.ewm(span=26, adjust=False).mean())\n",
    "df['macd'] = df['ema_12'] - df['ema_26']\n",
    "df['macd_signal'] = grouped['macd'].transform(lambda x: x.ewm(span=9, adjust=False).mean())\n",
    "df['macd_hist'] = df['macd'] - df['macd_signal']"
   ]
  },
  {
   "cell_type": "markdown",
   "metadata": {},
   "source": [
    "### Rate of Change"
   ]
  },
  {
   "cell_type": "code",
   "execution_count": 8,
   "metadata": {},
   "outputs": [],
   "source": [
    "# Rate of Change (ROC)\n",
    "df['roc_9'] = grouped['close'].transform(lambda x: x.pct_change(periods=9))\n",
    "df['roc_14'] = grouped['close'].transform(lambda x: x.pct_change(periods=14))"
   ]
  },
  {
   "cell_type": "markdown",
   "metadata": {},
   "source": [
    "### Exponential Weighted Moving Average"
   ]
  },
  {
   "cell_type": "code",
   "execution_count": 9,
   "metadata": {},
   "outputs": [],
   "source": [
    "# Exponential Weighted Moving Average (EWMA)\n",
    "df['ewma_0.9'] = grouped['close'].transform(lambda x: x.ewm(alpha=0.9, adjust=False).mean())"
   ]
  },
  {
   "cell_type": "markdown",
   "metadata": {},
   "source": [
    "### Momentum Indicator"
   ]
  },
  {
   "cell_type": "code",
   "execution_count": 10,
   "metadata": {},
   "outputs": [],
   "source": [
    "# Momentum Indicator\n",
    "df['momentum_5'] = grouped['close'].transform(lambda x: x - x.shift(5))"
   ]
  },
  {
   "cell_type": "markdown",
   "metadata": {},
   "source": [
    "### Average True Range"
   ]
  },
  {
   "cell_type": "code",
   "execution_count": 12,
   "metadata": {},
   "outputs": [],
   "source": [
    "# Average True Range (ATR)\n",
    "df['prev_close'] = grouped['close'].shift(1)\n",
    "tr1 = df['high'] - df['low']\n",
    "tr2 = (df['high'] - df['prev_close']).abs()\n",
    "tr3 = (df['low'] - df['prev_close']).abs()\n",
    "df['tr'] = np.maximum.reduce([tr1, tr2, tr3])\n",
    "df['atr_5'] = grouped['tr'].transform(lambda x: x.rolling(window=5).mean())"
   ]
  },
  {
   "cell_type": "markdown",
   "metadata": {},
   "source": [
    "### Williams’ %R"
   ]
  },
  {
   "cell_type": "code",
   "execution_count": 13,
   "metadata": {},
   "outputs": [],
   "source": [
    "# Williams’ %R\n",
    "high_14 = grouped['high'].transform(lambda x: x.rolling(14).max())\n",
    "low_14 = grouped['low'].transform(lambda x: x.rolling(14).min())\n",
    "df['williams_r'] = -100 * (high_14 - df['close']) / (high_14 - low_14)"
   ]
  },
  {
   "cell_type": "markdown",
   "metadata": {},
   "source": [
    "### Aroon Oscillator"
   ]
  },
  {
   "cell_type": "code",
   "execution_count": 14,
   "metadata": {},
   "outputs": [],
   "source": [
    "# Aroon Oscillator\n",
    "def aroon_oscillator(highs, lows, window=14):\n",
    "    def aroon_up(series):\n",
    "        return series.rolling(window).apply(lambda x: 100 * (window - np.argmax(x[::-1])) / window, raw=True)\n",
    "    def aroon_down(series):\n",
    "        return series.rolling(window).apply(lambda x: 100 * (window - np.argmin(x[::-1])) / window, raw=True)\n",
    "    return aroon_up(highs) - aroon_down(lows)\n",
    "\n",
    "df['aroon_oscillator_high'] = grouped['high'].transform(lambda x: aroon_oscillator(x, x))\n",
    "df['aroon_oscillator_low'] = grouped['low'].transform(lambda x: aroon_oscillator(x, x))"
   ]
  },
  {
   "cell_type": "markdown",
   "metadata": {},
   "source": [
    "### Commodity Channel Index"
   ]
  },
  {
   "cell_type": "code",
   "execution_count": 15,
   "metadata": {},
   "outputs": [],
   "source": [
    "# Commodity Channel Index (CCI)\n",
    "df['tp'] = (df['high'] + df['low'] + df['close']) / 3\n",
    "df['tp_sma_14'] = grouped['tp'].transform(lambda x: x.rolling(14).mean())\n",
    "df['tp_std_14'] = grouped['tp'].transform(lambda x: x.rolling(14).std())\n",
    "df['cci'] = (df['tp'] - df['tp_sma_14']) / (0.015 * df['tp_std_14'])"
   ]
  },
  {
   "cell_type": "markdown",
   "metadata": {},
   "source": [
    "### Double EMA"
   ]
  },
  {
   "cell_type": "code",
   "execution_count": 16,
   "metadata": {},
   "outputs": [],
   "source": [
    "# Double EMA (DEMA)\n",
    "ema = grouped['close'].transform(lambda x: x.ewm(span=10, adjust=False).mean())\n",
    "ema_of_ema = ema.ewm(span=10, adjust=False).mean()\n",
    "df['dema_10'] = 2 * ema - ema_of_ema"
   ]
  },
  {
   "cell_type": "markdown",
   "metadata": {},
   "source": [
    "### Final Cleanup"
   ]
  },
  {
   "cell_type": "code",
   "execution_count": 17,
   "metadata": {},
   "outputs": [
    {
     "data": {
      "text/html": [
       "<div>\n",
       "<style scoped>\n",
       "    .dataframe tbody tr th:only-of-type {\n",
       "        vertical-align: middle;\n",
       "    }\n",
       "\n",
       "    .dataframe tbody tr th {\n",
       "        vertical-align: top;\n",
       "    }\n",
       "\n",
       "    .dataframe thead th {\n",
       "        text-align: right;\n",
       "    }\n",
       "</style>\n",
       "<table border=\"1\" class=\"dataframe\">\n",
       "  <thead>\n",
       "    <tr style=\"text-align: right;\">\n",
       "      <th></th>\n",
       "      <th>id</th>\n",
       "      <th>open</th>\n",
       "      <th>high</th>\n",
       "      <th>low</th>\n",
       "      <th>close</th>\n",
       "      <th>symbol</th>\n",
       "      <th>name</th>\n",
       "      <th>datetime</th>\n",
       "      <th>hourly_return</th>\n",
       "      <th>log_return</th>\n",
       "      <th>...</th>\n",
       "      <th>ewma_0.9</th>\n",
       "      <th>momentum_5</th>\n",
       "      <th>prev_close</th>\n",
       "      <th>tr</th>\n",
       "      <th>atr_5</th>\n",
       "      <th>williams_r</th>\n",
       "      <th>aroon_oscillator_high</th>\n",
       "      <th>aroon_oscillator_low</th>\n",
       "      <th>cci</th>\n",
       "      <th>dema_10</th>\n",
       "    </tr>\n",
       "  </thead>\n",
       "  <tbody>\n",
       "    <tr>\n",
       "      <th>0</th>\n",
       "      <td>1</td>\n",
       "      <td>366.40</td>\n",
       "      <td>370.54</td>\n",
       "      <td>366.12</td>\n",
       "      <td>369.83</td>\n",
       "      <td>AAVE</td>\n",
       "      <td>Aave</td>\n",
       "      <td>2021-04-09 10:00:00</td>\n",
       "      <td>0.007876</td>\n",
       "      <td>0.007845</td>\n",
       "      <td>...</td>\n",
       "      <td>369.555505</td>\n",
       "      <td>2.29</td>\n",
       "      <td>366.94</td>\n",
       "      <td>4.42</td>\n",
       "      <td>3.710</td>\n",
       "      <td>-25.294525</td>\n",
       "      <td>35.714286</td>\n",
       "      <td>28.571429</td>\n",
       "      <td>23.518502</td>\n",
       "      <td>369.018318</td>\n",
       "    </tr>\n",
       "    <tr>\n",
       "      <th>1</th>\n",
       "      <td>1</td>\n",
       "      <td>371.12</td>\n",
       "      <td>374.01</td>\n",
       "      <td>370.85</td>\n",
       "      <td>372.67</td>\n",
       "      <td>AAVE</td>\n",
       "      <td>Aave</td>\n",
       "      <td>2021-04-09 11:00:00</td>\n",
       "      <td>0.007679</td>\n",
       "      <td>0.007650</td>\n",
       "      <td>...</td>\n",
       "      <td>372.358550</td>\n",
       "      <td>4.66</td>\n",
       "      <td>369.83</td>\n",
       "      <td>4.18</td>\n",
       "      <td>4.060</td>\n",
       "      <td>-8.957219</td>\n",
       "      <td>92.857143</td>\n",
       "      <td>92.857143</td>\n",
       "      <td>96.225832</td>\n",
       "      <td>370.336130</td>\n",
       "    </tr>\n",
       "    <tr>\n",
       "      <th>2</th>\n",
       "      <td>1</td>\n",
       "      <td>371.38</td>\n",
       "      <td>373.25</td>\n",
       "      <td>371.03</td>\n",
       "      <td>372.80</td>\n",
       "      <td>AAVE</td>\n",
       "      <td>Aave</td>\n",
       "      <td>2021-04-09 12:00:00</td>\n",
       "      <td>0.000349</td>\n",
       "      <td>0.000349</td>\n",
       "      <td>...</td>\n",
       "      <td>372.755855</td>\n",
       "      <td>4.86</td>\n",
       "      <td>372.67</td>\n",
       "      <td>2.22</td>\n",
       "      <td>4.042</td>\n",
       "      <td>-11.040146</td>\n",
       "      <td>85.714286</td>\n",
       "      <td>92.857143</td>\n",
       "      <td>98.569018</td>\n",
       "      <td>371.338430</td>\n",
       "    </tr>\n",
       "    <tr>\n",
       "      <th>3</th>\n",
       "      <td>1</td>\n",
       "      <td>370.57</td>\n",
       "      <td>371.17</td>\n",
       "      <td>367.28</td>\n",
       "      <td>367.54</td>\n",
       "      <td>AAVE</td>\n",
       "      <td>Aave</td>\n",
       "      <td>2021-04-09 13:00:00</td>\n",
       "      <td>-0.014109</td>\n",
       "      <td>-0.014210</td>\n",
       "      <td>...</td>\n",
       "      <td>368.061586</td>\n",
       "      <td>-0.90</td>\n",
       "      <td>372.80</td>\n",
       "      <td>5.52</td>\n",
       "      <td>4.376</td>\n",
       "      <td>-71.650055</td>\n",
       "      <td>42.857143</td>\n",
       "      <td>21.428571</td>\n",
       "      <td>-31.414732</td>\n",
       "      <td>370.318865</td>\n",
       "    </tr>\n",
       "    <tr>\n",
       "      <th>4</th>\n",
       "      <td>1</td>\n",
       "      <td>367.92</td>\n",
       "      <td>367.95</td>\n",
       "      <td>366.45</td>\n",
       "      <td>367.21</td>\n",
       "      <td>AAVE</td>\n",
       "      <td>Aave</td>\n",
       "      <td>2021-04-09 14:00:00</td>\n",
       "      <td>-0.000898</td>\n",
       "      <td>-0.000898</td>\n",
       "      <td>...</td>\n",
       "      <td>367.295159</td>\n",
       "      <td>0.27</td>\n",
       "      <td>367.54</td>\n",
       "      <td>1.50</td>\n",
       "      <td>3.568</td>\n",
       "      <td>-75.304540</td>\n",
       "      <td>-21.428571</td>\n",
       "      <td>21.428571</td>\n",
       "      <td>-76.209441</td>\n",
       "      <td>369.435391</td>\n",
       "    </tr>\n",
       "  </tbody>\n",
       "</table>\n",
       "<p>5 rows × 41 columns</p>\n",
       "</div>"
      ],
      "text/plain": [
       "   id    open    high     low   close symbol  name            datetime  \\\n",
       "0   1  366.40  370.54  366.12  369.83   AAVE  Aave 2021-04-09 10:00:00   \n",
       "1   1  371.12  374.01  370.85  372.67   AAVE  Aave 2021-04-09 11:00:00   \n",
       "2   1  371.38  373.25  371.03  372.80   AAVE  Aave 2021-04-09 12:00:00   \n",
       "3   1  370.57  371.17  367.28  367.54   AAVE  Aave 2021-04-09 13:00:00   \n",
       "4   1  367.92  367.95  366.45  367.21   AAVE  Aave 2021-04-09 14:00:00   \n",
       "\n",
       "   hourly_return  log_return  ...    ewma_0.9  momentum_5  prev_close    tr  \\\n",
       "0       0.007876    0.007845  ...  369.555505        2.29      366.94  4.42   \n",
       "1       0.007679    0.007650  ...  372.358550        4.66      369.83  4.18   \n",
       "2       0.000349    0.000349  ...  372.755855        4.86      372.67  2.22   \n",
       "3      -0.014109   -0.014210  ...  368.061586       -0.90      372.80  5.52   \n",
       "4      -0.000898   -0.000898  ...  367.295159        0.27      367.54  1.50   \n",
       "\n",
       "   atr_5  williams_r  aroon_oscillator_high  aroon_oscillator_low        cci  \\\n",
       "0  3.710  -25.294525              35.714286             28.571429  23.518502   \n",
       "1  4.060   -8.957219              92.857143             92.857143  96.225832   \n",
       "2  4.042  -11.040146              85.714286             92.857143  98.569018   \n",
       "3  4.376  -71.650055              42.857143             21.428571 -31.414732   \n",
       "4  3.568  -75.304540             -21.428571             21.428571 -76.209441   \n",
       "\n",
       "      dema_10  \n",
       "0  369.018318  \n",
       "1  370.336130  \n",
       "2  371.338430  \n",
       "3  370.318865  \n",
       "4  369.435391  \n",
       "\n",
       "[5 rows x 41 columns]"
      ]
     },
     "execution_count": 17,
     "metadata": {},
     "output_type": "execute_result"
    }
   ],
   "source": [
    "# Final cleanup\n",
    "df.drop(columns=['ema_12', 'ema_26', 'tp', 'tp_sma_14', 'tp_std_14'], inplace=True)\n",
    "df.dropna(inplace=True)\n",
    "df.reset_index(drop=True, inplace=True)\n",
    "\n",
    "df.to_csv(\"crypto_hourly_technical_features.csv\", index=False)\n",
    "\n",
    "df.head()"
   ]
  },
  {
   "cell_type": "code",
   "execution_count": null,
   "metadata": {},
   "outputs": [],
   "source": []
  }
 ],
 "metadata": {
  "kernelspec": {
   "display_name": "Python 3",
   "language": "python",
   "name": "python3"
  },
  "language_info": {
   "codemirror_mode": {
    "name": "ipython",
    "version": 3
   },
   "file_extension": ".py",
   "mimetype": "text/x-python",
   "name": "python",
   "nbconvert_exporter": "python",
   "pygments_lexer": "ipython3",
   "version": "3.12.1"
  }
 },
 "nbformat": 4,
 "nbformat_minor": 2
}
