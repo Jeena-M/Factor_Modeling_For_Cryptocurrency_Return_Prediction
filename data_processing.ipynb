{
 "cells": [
  {
   "cell_type": "code",
   "execution_count": 1,
   "metadata": {},
   "outputs": [],
   "source": [
    "import pandas as pd\n",
    "import numpy as np"
   ]
  },
  {
   "cell_type": "code",
   "execution_count": 2,
   "metadata": {},
   "outputs": [],
   "source": [
    "hourly_df = pd.read_csv(\"CryptoHourlyData.csv\")\n",
    "coins_df = pd.read_csv(\"coins.csv\")"
   ]
  },
  {
   "cell_type": "code",
   "execution_count": 3,
   "metadata": {},
   "outputs": [
    {
     "data": {
      "text/html": [
       "<div>\n",
       "<style scoped>\n",
       "    .dataframe tbody tr th:only-of-type {\n",
       "        vertical-align: middle;\n",
       "    }\n",
       "\n",
       "    .dataframe tbody tr th {\n",
       "        vertical-align: top;\n",
       "    }\n",
       "\n",
       "    .dataframe thead th {\n",
       "        text-align: right;\n",
       "    }\n",
       "</style>\n",
       "<table border=\"1\" class=\"dataframe\">\n",
       "  <thead>\n",
       "    <tr style=\"text-align: right;\">\n",
       "      <th></th>\n",
       "      <th>ID</th>\n",
       "      <th>Date</th>\n",
       "      <th>Time</th>\n",
       "      <th>Open</th>\n",
       "      <th>High</th>\n",
       "      <th>Low</th>\n",
       "      <th>Close</th>\n",
       "    </tr>\n",
       "  </thead>\n",
       "  <tbody>\n",
       "    <tr>\n",
       "      <th>0</th>\n",
       "      <td>1</td>\n",
       "      <td>2023-09-10</td>\n",
       "      <td>00:00:00</td>\n",
       "      <td>56.27</td>\n",
       "      <td>56.29</td>\n",
       "      <td>56.16</td>\n",
       "      <td>56.18</td>\n",
       "    </tr>\n",
       "    <tr>\n",
       "      <th>1</th>\n",
       "      <td>1</td>\n",
       "      <td>2023-09-09</td>\n",
       "      <td>23:00:00</td>\n",
       "      <td>56.27</td>\n",
       "      <td>56.28</td>\n",
       "      <td>56.16</td>\n",
       "      <td>56.26</td>\n",
       "    </tr>\n",
       "    <tr>\n",
       "      <th>2</th>\n",
       "      <td>1</td>\n",
       "      <td>2023-09-09</td>\n",
       "      <td>22:00:00</td>\n",
       "      <td>56.14</td>\n",
       "      <td>56.28</td>\n",
       "      <td>56.12</td>\n",
       "      <td>56.26</td>\n",
       "    </tr>\n",
       "    <tr>\n",
       "      <th>3</th>\n",
       "      <td>1</td>\n",
       "      <td>2023-09-09</td>\n",
       "      <td>21:00:00</td>\n",
       "      <td>56.38</td>\n",
       "      <td>56.38</td>\n",
       "      <td>56.07</td>\n",
       "      <td>56.13</td>\n",
       "    </tr>\n",
       "    <tr>\n",
       "      <th>4</th>\n",
       "      <td>1</td>\n",
       "      <td>2023-09-09</td>\n",
       "      <td>20:00:00</td>\n",
       "      <td>56.20</td>\n",
       "      <td>56.33</td>\n",
       "      <td>56.19</td>\n",
       "      <td>56.31</td>\n",
       "    </tr>\n",
       "  </tbody>\n",
       "</table>\n",
       "</div>"
      ],
      "text/plain": [
       "   ID        Date      Time   Open   High    Low  Close\n",
       "0   1  2023-09-10  00:00:00  56.27  56.29  56.16  56.18\n",
       "1   1  2023-09-09  23:00:00  56.27  56.28  56.16  56.26\n",
       "2   1  2023-09-09  22:00:00  56.14  56.28  56.12  56.26\n",
       "3   1  2023-09-09  21:00:00  56.38  56.38  56.07  56.13\n",
       "4   1  2023-09-09  20:00:00  56.20  56.33  56.19  56.31"
      ]
     },
     "execution_count": 3,
     "metadata": {},
     "output_type": "execute_result"
    }
   ],
   "source": [
    "hourly_df.head()"
   ]
  },
  {
   "cell_type": "code",
   "execution_count": 4,
   "metadata": {},
   "outputs": [
    {
     "data": {
      "text/html": [
       "<div>\n",
       "<style scoped>\n",
       "    .dataframe tbody tr th:only-of-type {\n",
       "        vertical-align: middle;\n",
       "    }\n",
       "\n",
       "    .dataframe tbody tr th {\n",
       "        vertical-align: top;\n",
       "    }\n",
       "\n",
       "    .dataframe thead th {\n",
       "        text-align: right;\n",
       "    }\n",
       "</style>\n",
       "<table border=\"1\" class=\"dataframe\">\n",
       "  <thead>\n",
       "    <tr style=\"text-align: right;\">\n",
       "      <th></th>\n",
       "      <th>id</th>\n",
       "      <th>Symbol</th>\n",
       "      <th>name</th>\n",
       "    </tr>\n",
       "  </thead>\n",
       "  <tbody>\n",
       "    <tr>\n",
       "      <th>0</th>\n",
       "      <td>1</td>\n",
       "      <td>AAVE</td>\n",
       "      <td>Aave</td>\n",
       "    </tr>\n",
       "    <tr>\n",
       "      <th>1</th>\n",
       "      <td>2</td>\n",
       "      <td>BTC</td>\n",
       "      <td>Bitcoin</td>\n",
       "    </tr>\n",
       "    <tr>\n",
       "      <th>2</th>\n",
       "      <td>3</td>\n",
       "      <td>ADA</td>\n",
       "      <td>Cardano</td>\n",
       "    </tr>\n",
       "    <tr>\n",
       "      <th>3</th>\n",
       "      <td>4</td>\n",
       "      <td>LINK</td>\n",
       "      <td>Chainlink</td>\n",
       "    </tr>\n",
       "    <tr>\n",
       "      <th>4</th>\n",
       "      <td>5</td>\n",
       "      <td>DOGE</td>\n",
       "      <td>Dogecoin</td>\n",
       "    </tr>\n",
       "  </tbody>\n",
       "</table>\n",
       "</div>"
      ],
      "text/plain": [
       "   id Symbol       name\n",
       "0   1   AAVE       Aave\n",
       "1   2    BTC    Bitcoin\n",
       "2   3    ADA    Cardano\n",
       "3   4   LINK  Chainlink\n",
       "4   5   DOGE   Dogecoin"
      ]
     },
     "execution_count": 4,
     "metadata": {},
     "output_type": "execute_result"
    }
   ],
   "source": [
    "coins_df.head()"
   ]
  },
  {
   "cell_type": "code",
   "execution_count": 5,
   "metadata": {},
   "outputs": [],
   "source": [
    "# Standardize column names\n",
    "hourly_df.columns = hourly_df.columns.str.strip().str.lower()\n",
    "coins_df.columns = coins_df.columns.str.strip().str.lower()"
   ]
  },
  {
   "cell_type": "code",
   "execution_count": 6,
   "metadata": {},
   "outputs": [],
   "source": [
    "# Drop duplicates\n",
    "hourly_df.drop_duplicates(inplace=True)\n",
    "coins_df.drop_duplicates(inplace=True)"
   ]
  },
  {
   "cell_type": "code",
   "execution_count": 7,
   "metadata": {},
   "outputs": [],
   "source": [
    "# Check for and drop missing values\n",
    "hourly_df.dropna(subset=['id', 'date', 'time', 'open', 'high', 'low', 'close'], inplace=True)\n",
    "coins_df.dropna(subset=['id', 'symbol'], inplace=True)"
   ]
  },
  {
   "cell_type": "code",
   "execution_count": 8,
   "metadata": {},
   "outputs": [],
   "source": [
    "# Convert numeric columns to proper types\n",
    "price_cols = ['open', 'high', 'low', 'close']\n",
    "for col in price_cols:\n",
    "    hourly_df[col] = pd.to_numeric(hourly_df[col], errors='coerce')"
   ]
  },
  {
   "cell_type": "code",
   "execution_count": 9,
   "metadata": {},
   "outputs": [],
   "source": [
    "# Merge hourly data with coin metadata\n",
    "merged = pd.merge(hourly_df, coins_df, how='left', left_on='id', right_on='id')"
   ]
  },
  {
   "cell_type": "code",
   "execution_count": 10,
   "metadata": {},
   "outputs": [
    {
     "data": {
      "text/html": [
       "<div>\n",
       "<style scoped>\n",
       "    .dataframe tbody tr th:only-of-type {\n",
       "        vertical-align: middle;\n",
       "    }\n",
       "\n",
       "    .dataframe tbody tr th {\n",
       "        vertical-align: top;\n",
       "    }\n",
       "\n",
       "    .dataframe thead th {\n",
       "        text-align: right;\n",
       "    }\n",
       "</style>\n",
       "<table border=\"1\" class=\"dataframe\">\n",
       "  <thead>\n",
       "    <tr style=\"text-align: right;\">\n",
       "      <th></th>\n",
       "      <th>id</th>\n",
       "      <th>date</th>\n",
       "      <th>time</th>\n",
       "      <th>open</th>\n",
       "      <th>high</th>\n",
       "      <th>low</th>\n",
       "      <th>close</th>\n",
       "      <th>symbol</th>\n",
       "      <th>name</th>\n",
       "    </tr>\n",
       "  </thead>\n",
       "  <tbody>\n",
       "    <tr>\n",
       "      <th>0</th>\n",
       "      <td>1</td>\n",
       "      <td>2023-09-10</td>\n",
       "      <td>00:00:00</td>\n",
       "      <td>56.27</td>\n",
       "      <td>56.29</td>\n",
       "      <td>56.16</td>\n",
       "      <td>56.18</td>\n",
       "      <td>AAVE</td>\n",
       "      <td>Aave</td>\n",
       "    </tr>\n",
       "    <tr>\n",
       "      <th>1</th>\n",
       "      <td>1</td>\n",
       "      <td>2023-09-09</td>\n",
       "      <td>23:00:00</td>\n",
       "      <td>56.27</td>\n",
       "      <td>56.28</td>\n",
       "      <td>56.16</td>\n",
       "      <td>56.26</td>\n",
       "      <td>AAVE</td>\n",
       "      <td>Aave</td>\n",
       "    </tr>\n",
       "    <tr>\n",
       "      <th>2</th>\n",
       "      <td>1</td>\n",
       "      <td>2023-09-09</td>\n",
       "      <td>22:00:00</td>\n",
       "      <td>56.14</td>\n",
       "      <td>56.28</td>\n",
       "      <td>56.12</td>\n",
       "      <td>56.26</td>\n",
       "      <td>AAVE</td>\n",
       "      <td>Aave</td>\n",
       "    </tr>\n",
       "    <tr>\n",
       "      <th>3</th>\n",
       "      <td>1</td>\n",
       "      <td>2023-09-09</td>\n",
       "      <td>21:00:00</td>\n",
       "      <td>56.38</td>\n",
       "      <td>56.38</td>\n",
       "      <td>56.07</td>\n",
       "      <td>56.13</td>\n",
       "      <td>AAVE</td>\n",
       "      <td>Aave</td>\n",
       "    </tr>\n",
       "    <tr>\n",
       "      <th>4</th>\n",
       "      <td>1</td>\n",
       "      <td>2023-09-09</td>\n",
       "      <td>20:00:00</td>\n",
       "      <td>56.20</td>\n",
       "      <td>56.33</td>\n",
       "      <td>56.19</td>\n",
       "      <td>56.31</td>\n",
       "      <td>AAVE</td>\n",
       "      <td>Aave</td>\n",
       "    </tr>\n",
       "  </tbody>\n",
       "</table>\n",
       "</div>"
      ],
      "text/plain": [
       "   id        date      time   open   high    low  close symbol  name\n",
       "0   1  2023-09-10  00:00:00  56.27  56.29  56.16  56.18   AAVE  Aave\n",
       "1   1  2023-09-09  23:00:00  56.27  56.28  56.16  56.26   AAVE  Aave\n",
       "2   1  2023-09-09  22:00:00  56.14  56.28  56.12  56.26   AAVE  Aave\n",
       "3   1  2023-09-09  21:00:00  56.38  56.38  56.07  56.13   AAVE  Aave\n",
       "4   1  2023-09-09  20:00:00  56.20  56.33  56.19  56.31   AAVE  Aave"
      ]
     },
     "execution_count": 10,
     "metadata": {},
     "output_type": "execute_result"
    }
   ],
   "source": [
    "merged.head()"
   ]
  },
  {
   "cell_type": "code",
   "execution_count": 11,
   "metadata": {},
   "outputs": [],
   "source": [
    "# Combine 'date' and 'time' into a single datetime column\n",
    "merged['datetime'] = pd.to_datetime(merged['date'] + ' ' + merged['time'], errors='coerce')\n",
    "merged.dropna(subset=['datetime'], inplace=True)"
   ]
  },
  {
   "cell_type": "code",
   "execution_count": 12,
   "metadata": {},
   "outputs": [],
   "source": [
    "# Filter out future dates or invalid timestamps\n",
    "merged = merged[merged['datetime'] <= pd.Timestamp.now()]"
   ]
  },
  {
   "cell_type": "code",
   "execution_count": 13,
   "metadata": {},
   "outputs": [],
   "source": [
    "# Sort by symbol and datetime\n",
    "merged.sort_values(by=['symbol', 'datetime'], inplace=True)"
   ]
  },
  {
   "cell_type": "code",
   "execution_count": 14,
   "metadata": {},
   "outputs": [],
   "source": [
    "# Remove extreme outliers\n",
    "for col in price_cols:\n",
    "    lower = merged[col].quantile(0.01)\n",
    "    upper = merged[col].quantile(0.99)\n",
    "    merged[col] = np.clip(merged[col], lower, upper)"
   ]
  },
  {
   "cell_type": "code",
   "execution_count": 15,
   "metadata": {},
   "outputs": [
    {
     "data": {
      "text/html": [
       "<div>\n",
       "<style scoped>\n",
       "    .dataframe tbody tr th:only-of-type {\n",
       "        vertical-align: middle;\n",
       "    }\n",
       "\n",
       "    .dataframe tbody tr th {\n",
       "        vertical-align: top;\n",
       "    }\n",
       "\n",
       "    .dataframe thead th {\n",
       "        text-align: right;\n",
       "    }\n",
       "</style>\n",
       "<table border=\"1\" class=\"dataframe\">\n",
       "  <thead>\n",
       "    <tr style=\"text-align: right;\">\n",
       "      <th></th>\n",
       "      <th>id</th>\n",
       "      <th>date</th>\n",
       "      <th>time</th>\n",
       "      <th>open</th>\n",
       "      <th>high</th>\n",
       "      <th>low</th>\n",
       "      <th>close</th>\n",
       "      <th>symbol</th>\n",
       "      <th>name</th>\n",
       "      <th>datetime</th>\n",
       "    </tr>\n",
       "  </thead>\n",
       "  <tbody>\n",
       "    <tr>\n",
       "      <th>21225</th>\n",
       "      <td>1</td>\n",
       "      <td>2021-04-08</td>\n",
       "      <td>15:00:00</td>\n",
       "      <td>360.49</td>\n",
       "      <td>364.47</td>\n",
       "      <td>360.29</td>\n",
       "      <td>364.03</td>\n",
       "      <td>AAVE</td>\n",
       "      <td>Aave</td>\n",
       "      <td>2021-04-08 15:00:00</td>\n",
       "    </tr>\n",
       "    <tr>\n",
       "      <th>21224</th>\n",
       "      <td>1</td>\n",
       "      <td>2021-04-08</td>\n",
       "      <td>16:00:00</td>\n",
       "      <td>362.06</td>\n",
       "      <td>365.84</td>\n",
       "      <td>362.05</td>\n",
       "      <td>364.79</td>\n",
       "      <td>AAVE</td>\n",
       "      <td>Aave</td>\n",
       "      <td>2021-04-08 16:00:00</td>\n",
       "    </tr>\n",
       "    <tr>\n",
       "      <th>21223</th>\n",
       "      <td>1</td>\n",
       "      <td>2021-04-08</td>\n",
       "      <td>17:00:00</td>\n",
       "      <td>366.52</td>\n",
       "      <td>369.81</td>\n",
       "      <td>365.50</td>\n",
       "      <td>368.94</td>\n",
       "      <td>AAVE</td>\n",
       "      <td>Aave</td>\n",
       "      <td>2021-04-08 17:00:00</td>\n",
       "    </tr>\n",
       "    <tr>\n",
       "      <th>21222</th>\n",
       "      <td>1</td>\n",
       "      <td>2021-04-08</td>\n",
       "      <td>18:00:00</td>\n",
       "      <td>367.14</td>\n",
       "      <td>368.52</td>\n",
       "      <td>363.89</td>\n",
       "      <td>364.85</td>\n",
       "      <td>AAVE</td>\n",
       "      <td>Aave</td>\n",
       "      <td>2021-04-08 18:00:00</td>\n",
       "    </tr>\n",
       "    <tr>\n",
       "      <th>21221</th>\n",
       "      <td>1</td>\n",
       "      <td>2021-04-08</td>\n",
       "      <td>19:00:00</td>\n",
       "      <td>365.81</td>\n",
       "      <td>368.92</td>\n",
       "      <td>365.17</td>\n",
       "      <td>368.14</td>\n",
       "      <td>AAVE</td>\n",
       "      <td>Aave</td>\n",
       "      <td>2021-04-08 19:00:00</td>\n",
       "    </tr>\n",
       "  </tbody>\n",
       "</table>\n",
       "</div>"
      ],
      "text/plain": [
       "       id        date      time    open    high     low   close symbol  name  \\\n",
       "21225   1  2021-04-08  15:00:00  360.49  364.47  360.29  364.03   AAVE  Aave   \n",
       "21224   1  2021-04-08  16:00:00  362.06  365.84  362.05  364.79   AAVE  Aave   \n",
       "21223   1  2021-04-08  17:00:00  366.52  369.81  365.50  368.94   AAVE  Aave   \n",
       "21222   1  2021-04-08  18:00:00  367.14  368.52  363.89  364.85   AAVE  Aave   \n",
       "21221   1  2021-04-08  19:00:00  365.81  368.92  365.17  368.14   AAVE  Aave   \n",
       "\n",
       "                 datetime  \n",
       "21225 2021-04-08 15:00:00  \n",
       "21224 2021-04-08 16:00:00  \n",
       "21223 2021-04-08 17:00:00  \n",
       "21222 2021-04-08 18:00:00  \n",
       "21221 2021-04-08 19:00:00  "
      ]
     },
     "execution_count": 15,
     "metadata": {},
     "output_type": "execute_result"
    }
   ],
   "source": [
    "merged.head()"
   ]
  },
  {
   "cell_type": "markdown",
   "metadata": {},
   "source": [
    "### Feature Engineering"
   ]
  },
  {
   "cell_type": "code",
   "execution_count": 16,
   "metadata": {},
   "outputs": [
    {
     "name": "stderr",
     "output_type": "stream",
     "text": [
      "/Library/Frameworks/Python.framework/Versions/3.12/lib/python3.12/site-packages/pandas/core/arraylike.py:399: RuntimeWarning: divide by zero encountered in log\n",
      "  result = getattr(ufunc, method)(*inputs, **kwargs)\n"
     ]
    }
   ],
   "source": [
    "# (a) Hourly return\n",
    "merged['hourly_return'] = merged.groupby('symbol')['close'].pct_change()\n",
    "\n",
    "# (b) Log return\n",
    "merged['log_return'] = np.log(merged['close'] / merged.groupby('symbol')['close'].shift(1))\n",
    "\n",
    "# (c) 3-hour and 6-hour simple moving average of close price\n",
    "merged['sma_3h'] = merged.groupby('symbol')['close'].transform(lambda x: x.rolling(3).mean())\n",
    "merged['sma_6h'] = merged.groupby('symbol')['close'].transform(lambda x: x.rolling(6).mean())\n",
    "\n",
    "# (d) Volatility (standard deviation of close price over a 6-hour window)\n",
    "merged['volatility_6h'] = merged.groupby('symbol')['close'].transform(lambda x: x.rolling(6).std())\n",
    "\n",
    "# (e) High-Low spread\n",
    "merged['hl_spread'] = merged['high'] - merged['low']"
   ]
  },
  {
   "cell_type": "markdown",
   "metadata": {},
   "source": [
    "### Some Final Cleansing"
   ]
  },
  {
   "cell_type": "code",
   "execution_count": 17,
   "metadata": {},
   "outputs": [],
   "source": [
    "# Drop columns no longer needed\n",
    "merged.drop(columns=['date', 'time'], inplace=True)\n",
    "\n",
    "# Drop rows with NaNs from rolling/pct_change\n",
    "merged.dropna(inplace=True)\n",
    "\n",
    "# Reset index and export the cleansed dataset!\n",
    "merged.reset_index(drop=True, inplace=True)\n",
    "merged.to_csv(\"Cleaned_Crypto.csv\", index=False)"
   ]
  },
  {
   "cell_type": "markdown",
   "metadata": {},
   "source": []
  }
 ],
 "metadata": {
  "kernelspec": {
   "display_name": "Python 3",
   "language": "python",
   "name": "python3"
  },
  "language_info": {
   "codemirror_mode": {
    "name": "ipython",
    "version": 3
   },
   "file_extension": ".py",
   "mimetype": "text/x-python",
   "name": "python",
   "nbconvert_exporter": "python",
   "pygments_lexer": "ipython3",
   "version": "3.12.1"
  }
 },
 "nbformat": 4,
 "nbformat_minor": 2
}
