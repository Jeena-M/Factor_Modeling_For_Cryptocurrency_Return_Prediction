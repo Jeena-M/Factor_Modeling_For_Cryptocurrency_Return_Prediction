{
 "cells": [
  {
   "cell_type": "code",
   "execution_count": 11,
   "id": "5d1dbe6f",
   "metadata": {},
   "outputs": [],
   "source": [
    "import pandas as pd\n",
    "from sklearn.model_selection import train_test_split\n",
    "from sklearn.preprocessing import StandardScaler\n",
    "from sklearn.linear_model import LogisticRegression\n",
    "from sklearn.svm import SVC, LinearSVC\n",
    "from sklearn.metrics import accuracy_score, confusion_matrix, classification_report\n",
    "\n",
    "df = pd.read_csv(\"crypto_hourly_technical_features.csv\")\n",
    "\n",
    "# Create binary target variable\n",
    "df['target'] = (df['close'] > df['open']).astype(int)\n",
    "\n",
    "# Drop columns not used for modeling\n",
    "drop_cols = ['id', 'symbol', 'name', 'datetime', 'open', 'high', 'low', 'close', 'target']\n",
    "features = df.drop(columns=drop_cols, errors='ignore')\n",
    "target = df['target']\n",
    "\n",
    "# Drop missing values\n",
    "features = features.dropna()\n",
    "target = target.loc[features.index]\n",
    "\n",
    "# Train-test split\n",
    "X_train, X_test, y_train, y_test = train_test_split(features, target, test_size=0.2, random_state=42)\n",
    "\n",
    "# Scale features\n",
    "scaler = StandardScaler()\n",
    "X_train_scaled = scaler.fit_transform(X_train)\n",
    "X_test_scaled = scaler.transform(X_test)"
   ]
  },
  {
   "cell_type": "markdown",
   "id": "838c63f4",
   "metadata": {},
   "source": [
    "### Logistic Regression"
   ]
  },
  {
   "cell_type": "code",
   "execution_count": 3,
   "id": "32a4acb7",
   "metadata": {},
   "outputs": [
    {
     "name": "stdout",
     "output_type": "stream",
     "text": [
      "Logistic Regression\n",
      "Accuracy: 0.8194304986998275\n",
      "Confusion Matrix:\n",
      " [[40954  4593]\n",
      " [ 9434 22701]]\n",
      "              precision    recall  f1-score   support\n",
      "\n",
      "           0       0.81      0.90      0.85     45547\n",
      "           1       0.83      0.71      0.76     32135\n",
      "\n",
      "    accuracy                           0.82     77682\n",
      "   macro avg       0.82      0.80      0.81     77682\n",
      "weighted avg       0.82      0.82      0.82     77682\n",
      "\n"
     ]
    }
   ],
   "source": [
    "logreg = LogisticRegression(max_iter=1000)\n",
    "logreg.fit(X_train_scaled, y_train)\n",
    "logreg_preds = logreg.predict(X_test_scaled)\n",
    "\n",
    "print(\"Logistic Regression\")\n",
    "print(\"Accuracy:\", accuracy_score(y_test, logreg_preds))\n",
    "print(\"Confusion Matrix:\\n\", confusion_matrix(y_test, logreg_preds))\n",
    "print(classification_report(y_test, logreg_preds))"
   ]
  },
  {
   "cell_type": "markdown",
   "id": "52b524a6",
   "metadata": {},
   "source": [
    "### Linear SVM"
   ]
  },
  {
   "cell_type": "code",
   "execution_count": 12,
   "id": "01855a13",
   "metadata": {},
   "outputs": [
    {
     "name": "stderr",
     "output_type": "stream",
     "text": [
      "/Users/stephaniezhou/anaconda3/envs/tc_env/lib/python3.8/site-packages/sklearn/svm/_classes.py:32: FutureWarning: The default value of `dual` will change from `True` to `'auto'` in 1.5. Set the value of `dual` explicitly to suppress the warning.\n",
      "  warnings.warn(\n",
      "/Users/stephaniezhou/anaconda3/envs/tc_env/lib/python3.8/site-packages/sklearn/svm/_base.py:1250: ConvergenceWarning: Liblinear failed to converge, increase the number of iterations.\n",
      "  warnings.warn(\n"
     ]
    },
    {
     "name": "stdout",
     "output_type": "stream",
     "text": [
      "Linear SVM\n",
      "Accuracy: 0.7975592801421179\n",
      "Confusion Matrix:\n",
      " [[40680  4867]\n",
      " [10859 21276]]\n",
      "              precision    recall  f1-score   support\n",
      "\n",
      "           0       0.79      0.89      0.84     45547\n",
      "           1       0.81      0.66      0.73     32135\n",
      "\n",
      "    accuracy                           0.80     77682\n",
      "   macro avg       0.80      0.78      0.78     77682\n",
      "weighted avg       0.80      0.80      0.79     77682\n",
      "\n"
     ]
    }
   ],
   "source": [
    "linear_svm = LinearSVC(max_iter=10000)\n",
    "linear_svm.fit(X_train_scaled, y_train)\n",
    "linear_preds = linear_svm.predict(X_test_scaled)\n",
    "\n",
    "print(\"Linear SVM\")\n",
    "print(\"Accuracy:\", accuracy_score(y_test, linear_preds))\n",
    "print(\"Confusion Matrix:\\n\", confusion_matrix(y_test, linear_preds))\n",
    "print(classification_report(y_test, linear_preds))"
   ]
  },
  {
   "cell_type": "markdown",
   "id": "d3644c8b",
   "metadata": {},
   "source": [
    "### RBF SVM"
   ]
  },
  {
   "cell_type": "code",
   "execution_count": 4,
   "id": "5bb18059",
   "metadata": {},
   "outputs": [
    {
     "name": "stdout",
     "output_type": "stream",
     "text": [
      "RBF SVM\n",
      "Accuracy: 0.8592080533456914\n",
      "Confusion Matrix:\n",
      " [[41740  3807]\n",
      " [ 7130 25005]]\n",
      "              precision    recall  f1-score   support\n",
      "\n",
      "           0       0.85      0.92      0.88     45547\n",
      "           1       0.87      0.78      0.82     32135\n",
      "\n",
      "    accuracy                           0.86     77682\n",
      "   macro avg       0.86      0.85      0.85     77682\n",
      "weighted avg       0.86      0.86      0.86     77682\n",
      "\n"
     ]
    }
   ],
   "source": [
    "sample_size = 50000\n",
    "X_train_small = X_train_scaled[:sample_size]\n",
    "y_train_small = y_train[:sample_size]\n",
    "\n",
    "rbf_svm = SVC(kernel='rbf')\n",
    "rbf_svm.fit(X_train_small, y_train_small)\n",
    "rbf_preds = rbf_svm.predict(X_test_scaled)\n",
    "\n",
    "print(\"RBF SVM\")\n",
    "print(\"Accuracy:\", accuracy_score(y_test, rbf_preds))\n",
    "print(\"Confusion Matrix:\\n\", confusion_matrix(y_test, rbf_preds))\n",
    "print(classification_report(y_test, rbf_preds))"
   ]
  },
  {
   "cell_type": "markdown",
   "id": "d20d2453",
   "metadata": {},
   "source": [
    "### Feature Importance"
   ]
  },
  {
   "cell_type": "code",
   "execution_count": 2,
   "id": "f1f72ac3",
   "metadata": {},
   "outputs": [],
   "source": [
    "import pandas as pd\n",
    "import numpy as np\n",
    "import matplotlib.pyplot as plt\n",
    "from sklearn.linear_model import LogisticRegression\n",
    "from sklearn.model_selection import train_test_split\n",
    "from sklearn.preprocessing import StandardScaler\n",
    "\n",
    "df = pd.read_csv(\"crypto_hourly_technical_features.csv\")"
   ]
  },
  {
   "cell_type": "code",
   "execution_count": 3,
   "id": "c3a98cd6",
   "metadata": {},
   "outputs": [],
   "source": [
    "# Create binary target\n",
    "df['target'] = (df['close'] > df['open']).astype(int)\n",
    "\n",
    "# Feature columns (exclude metadata + price columns)\n",
    "drop_cols = ['id', 'symbol', 'name', 'datetime', 'open', 'high', 'low', 'close', 'target']\n",
    "features = df.drop(columns=drop_cols, errors='ignore')\n",
    "target = df['target']"
   ]
  },
  {
   "cell_type": "code",
   "execution_count": 4,
   "id": "b8ca9337",
   "metadata": {},
   "outputs": [],
   "source": [
    "# Drop missing values\n",
    "features = features.dropna()\n",
    "target = target.loc[features.index]\n"
   ]
  },
  {
   "cell_type": "code",
   "execution_count": 5,
   "id": "67767bb9",
   "metadata": {},
   "outputs": [],
   "source": [
    "# Split and scale\n",
    "X_train, X_test, y_train, y_test = train_test_split(features, target, test_size=0.2, random_state=42)\n",
    "scaler = StandardScaler()\n",
    "X_train_scaled = scaler.fit_transform(X_train)\n",
    "X_test_scaled = scaler.transform(X_test)"
   ]
  },
  {
   "cell_type": "code",
   "execution_count": 6,
   "id": "eb21c418",
   "metadata": {},
   "outputs": [
    {
     "data": {
      "text/html": [
       "<style>#sk-container-id-1 {color: black;}#sk-container-id-1 pre{padding: 0;}#sk-container-id-1 div.sk-toggleable {background-color: white;}#sk-container-id-1 label.sk-toggleable__label {cursor: pointer;display: block;width: 100%;margin-bottom: 0;padding: 0.3em;box-sizing: border-box;text-align: center;}#sk-container-id-1 label.sk-toggleable__label-arrow:before {content: \"▸\";float: left;margin-right: 0.25em;color: #696969;}#sk-container-id-1 label.sk-toggleable__label-arrow:hover:before {color: black;}#sk-container-id-1 div.sk-estimator:hover label.sk-toggleable__label-arrow:before {color: black;}#sk-container-id-1 div.sk-toggleable__content {max-height: 0;max-width: 0;overflow: hidden;text-align: left;background-color: #f0f8ff;}#sk-container-id-1 div.sk-toggleable__content pre {margin: 0.2em;color: black;border-radius: 0.25em;background-color: #f0f8ff;}#sk-container-id-1 input.sk-toggleable__control:checked~div.sk-toggleable__content {max-height: 200px;max-width: 100%;overflow: auto;}#sk-container-id-1 input.sk-toggleable__control:checked~label.sk-toggleable__label-arrow:before {content: \"▾\";}#sk-container-id-1 div.sk-estimator input.sk-toggleable__control:checked~label.sk-toggleable__label {background-color: #d4ebff;}#sk-container-id-1 div.sk-label input.sk-toggleable__control:checked~label.sk-toggleable__label {background-color: #d4ebff;}#sk-container-id-1 input.sk-hidden--visually {border: 0;clip: rect(1px 1px 1px 1px);clip: rect(1px, 1px, 1px, 1px);height: 1px;margin: -1px;overflow: hidden;padding: 0;position: absolute;width: 1px;}#sk-container-id-1 div.sk-estimator {font-family: monospace;background-color: #f0f8ff;border: 1px dotted black;border-radius: 0.25em;box-sizing: border-box;margin-bottom: 0.5em;}#sk-container-id-1 div.sk-estimator:hover {background-color: #d4ebff;}#sk-container-id-1 div.sk-parallel-item::after {content: \"\";width: 100%;border-bottom: 1px solid gray;flex-grow: 1;}#sk-container-id-1 div.sk-label:hover label.sk-toggleable__label {background-color: #d4ebff;}#sk-container-id-1 div.sk-serial::before {content: \"\";position: absolute;border-left: 1px solid gray;box-sizing: border-box;top: 0;bottom: 0;left: 50%;z-index: 0;}#sk-container-id-1 div.sk-serial {display: flex;flex-direction: column;align-items: center;background-color: white;padding-right: 0.2em;padding-left: 0.2em;position: relative;}#sk-container-id-1 div.sk-item {position: relative;z-index: 1;}#sk-container-id-1 div.sk-parallel {display: flex;align-items: stretch;justify-content: center;background-color: white;position: relative;}#sk-container-id-1 div.sk-item::before, #sk-container-id-1 div.sk-parallel-item::before {content: \"\";position: absolute;border-left: 1px solid gray;box-sizing: border-box;top: 0;bottom: 0;left: 50%;z-index: -1;}#sk-container-id-1 div.sk-parallel-item {display: flex;flex-direction: column;z-index: 1;position: relative;background-color: white;}#sk-container-id-1 div.sk-parallel-item:first-child::after {align-self: flex-end;width: 50%;}#sk-container-id-1 div.sk-parallel-item:last-child::after {align-self: flex-start;width: 50%;}#sk-container-id-1 div.sk-parallel-item:only-child::after {width: 0;}#sk-container-id-1 div.sk-dashed-wrapped {border: 1px dashed gray;margin: 0 0.4em 0.5em 0.4em;box-sizing: border-box;padding-bottom: 0.4em;background-color: white;}#sk-container-id-1 div.sk-label label {font-family: monospace;font-weight: bold;display: inline-block;line-height: 1.2em;}#sk-container-id-1 div.sk-label-container {text-align: center;}#sk-container-id-1 div.sk-container {/* jupyter's `normalize.less` sets `[hidden] { display: none; }` but bootstrap.min.css set `[hidden] { display: none !important; }` so we also need the `!important` here to be able to override the default hidden behavior on the sphinx rendered scikit-learn.org. See: https://github.com/scikit-learn/scikit-learn/issues/21755 */display: inline-block !important;position: relative;}#sk-container-id-1 div.sk-text-repr-fallback {display: none;}</style><div id=\"sk-container-id-1\" class=\"sk-top-container\"><div class=\"sk-text-repr-fallback\"><pre>LogisticRegression(max_iter=1000)</pre><b>In a Jupyter environment, please rerun this cell to show the HTML representation or trust the notebook. <br />On GitHub, the HTML representation is unable to render, please try loading this page with nbviewer.org.</b></div><div class=\"sk-container\" hidden><div class=\"sk-item\"><div class=\"sk-estimator sk-toggleable\"><input class=\"sk-toggleable__control sk-hidden--visually\" id=\"sk-estimator-id-1\" type=\"checkbox\" checked><label for=\"sk-estimator-id-1\" class=\"sk-toggleable__label sk-toggleable__label-arrow\">LogisticRegression</label><div class=\"sk-toggleable__content\"><pre>LogisticRegression(max_iter=1000)</pre></div></div></div></div></div>"
      ],
      "text/plain": [
       "LogisticRegression(max_iter=1000)"
      ]
     },
     "execution_count": 6,
     "metadata": {},
     "output_type": "execute_result"
    }
   ],
   "source": [
    "# Train Logistic Regression\n",
    "logreg = LogisticRegression(max_iter=1000)\n",
    "logreg.fit(X_train_scaled, y_train)"
   ]
  },
  {
   "cell_type": "code",
   "execution_count": 7,
   "id": "2f01fea2",
   "metadata": {},
   "outputs": [],
   "source": [
    "# Feature importance\n",
    "coef = logreg.coef_[0]\n",
    "feature_names = features.columns\n",
    "importance = pd.Series(np.abs(coef), index=feature_names).sort_values(ascending=False)"
   ]
  },
  {
   "cell_type": "code",
   "execution_count": 8,
   "id": "0e459557",
   "metadata": {},
   "outputs": [
    {
     "name": "stdout",
     "output_type": "stream",
     "text": [
      "\n",
      "Top 10 Most Important Features:\n",
      "\n",
      "log_return       31.459309\n",
      "hourly_return    13.133407\n",
      "return_lag_1     13.133407\n",
      "ewma_0.9          6.708408\n",
      "sma_3h            4.599405\n",
      "sum_ret_3         2.750697\n",
      "ma_5              1.720229\n",
      "return_lag_3      1.523959\n",
      "return_lag_2      1.369919\n",
      "sum_ret_5         1.348813\n",
      "dtype: float64\n"
     ]
    }
   ],
   "source": [
    "# Print out the top features\n",
    "print(\"\\nTop 10 Most Important Features:\\n\")\n",
    "print(importance.head(10))"
   ]
  },
  {
   "cell_type": "code",
   "execution_count": 9,
   "id": "1b2a562d",
   "metadata": {},
   "outputs": [
    {
     "data": {
      "image/png": "[encoded data removed]",
      "text/plain": [
       "<Figure size 1000x600 with 1 Axes>"
      ]
     },
     "metadata": {},
     "output_type": "display_data"
    }
   ],
   "source": [
    "# Plot\n",
    "plt.figure(figsize=(10, 6))\n",
    "importance.head(15).plot(kind='barh')\n",
    "plt.title(\"Top 15 Logistic Regression Feature Importances\")\n",
    "plt.xlabel(\"Absolute Coefficient Value\")\n",
    "plt.gca().invert_yaxis()\n",
    "plt.tight_layout()\n",
    "plt.show()"
   ]
  },
  {
   "cell_type": "code",
   "execution_count": null,
   "id": "1f764da9",
   "metadata": {},
   "outputs": [],
   "source": []
  }
 ],
 "metadata": {
  "kernelspec": {
   "display_name": "Python 3",
   "language": "python",
   "name": "python3"
  },
  "language_info": {
   "codemirror_mode": {
    "name": "ipython",
    "version": 3
   },
   "file_extension": ".py",
   "mimetype": "text/x-python",
   "name": "python",
   "nbconvert_exporter": "python",
   "pygments_lexer": "ipython3",
   "version": "3.8.19"
  }
 },
 "nbformat": 4,
 "nbformat_minor": 5
}
